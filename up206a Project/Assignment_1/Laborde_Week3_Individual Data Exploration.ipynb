{
 "cells": [
  {
   "cell_type": "code",
   "execution_count": 1,
   "metadata": {},
   "outputs": [],
   "source": [
    "# import pandas\n",
    "import geopandas as gpf"
   ]
  },
  {
   "cell_type": "code",
   "execution_count": 2,
   "metadata": {},
   "outputs": [],
   "source": [
    "# import the data\n",
    "encamp_2017 = gpf.read_file('data/2017-311_Homeless_Encampments_Requests.csv')"
   ]
  },
  {
   "cell_type": "code",
   "execution_count": 3,
   "metadata": {},
   "outputs": [
    {
     "data": {
      "text/plain": [
       "geopandas.geodataframe.GeoDataFrame"
      ]
     },
     "execution_count": 3,
     "metadata": {},
     "output_type": "execute_result"
    }
   ],
   "source": [
    "# what's the data type?\n",
    "type(encamp_2017)"
   ]
  },
  {
   "cell_type": "code",
   "execution_count": 4,
   "metadata": {},
   "outputs": [
    {
     "data": {
      "text/html": [
       "<div>\n",
       "<style scoped>\n",
       "    .dataframe tbody tr th:only-of-type {\n",
       "        vertical-align: middle;\n",
       "    }\n",
       "\n",
       "    .dataframe tbody tr th {\n",
       "        vertical-align: top;\n",
       "    }\n",
       "\n",
       "    .dataframe thead th {\n",
       "        text-align: right;\n",
       "    }\n",
       "</style>\n",
       "<table border=\"1\" class=\"dataframe\">\n",
       "  <thead>\n",
       "    <tr style=\"text-align: right;\">\n",
       "      <th></th>\n",
       "      <th>CreatedDate</th>\n",
       "      <th>Latitude</th>\n",
       "      <th>Longitude</th>\n",
       "      <th>APC</th>\n",
       "      <th>CD</th>\n",
       "      <th>NC</th>\n",
       "      <th>PolicePrecinct</th>\n",
       "      <th>geometry</th>\n",
       "    </tr>\n",
       "  </thead>\n",
       "  <tbody>\n",
       "    <tr>\n",
       "      <th>0</th>\n",
       "      <td>1/1/2017 10:30</td>\n",
       "      <td>34.09658918</td>\n",
       "      <td>-118.3381616</td>\n",
       "      <td>Central APC</td>\n",
       "      <td>13</td>\n",
       "      <td>32</td>\n",
       "      <td>HOLLYWOOD</td>\n",
       "      <td>None</td>\n",
       "    </tr>\n",
       "    <tr>\n",
       "      <th>1</th>\n",
       "      <td>1/1/2017 10:37</td>\n",
       "      <td>34.03674605</td>\n",
       "      <td>-118.3755976</td>\n",
       "      <td>South Los Angeles APC</td>\n",
       "      <td>10</td>\n",
       "      <td>60</td>\n",
       "      <td>WILSHIRE</td>\n",
       "      <td>None</td>\n",
       "    </tr>\n",
       "    <tr>\n",
       "      <th>2</th>\n",
       "      <td>1/1/2017 11:00</td>\n",
       "      <td>34.05742408</td>\n",
       "      <td>-118.307502</td>\n",
       "      <td>Central APC</td>\n",
       "      <td>10</td>\n",
       "      <td>55</td>\n",
       "      <td>OLYMPIC</td>\n",
       "      <td>None</td>\n",
       "    </tr>\n",
       "    <tr>\n",
       "      <th>3</th>\n",
       "      <td>1/1/2017 12:00</td>\n",
       "      <td>34.00109792</td>\n",
       "      <td>-118.4686821</td>\n",
       "      <td>West Los Angeles APC</td>\n",
       "      <td>11</td>\n",
       "      <td>68</td>\n",
       "      <td>PACIFIC</td>\n",
       "      <td>None</td>\n",
       "    </tr>\n",
       "    <tr>\n",
       "      <th>4</th>\n",
       "      <td>1/1/2017 12:24</td>\n",
       "      <td>34.25010497</td>\n",
       "      <td>-118.4509682</td>\n",
       "      <td>North Valley APC</td>\n",
       "      <td>6</td>\n",
       "      <td>101</td>\n",
       "      <td>MISSION</td>\n",
       "      <td>None</td>\n",
       "    </tr>\n",
       "  </tbody>\n",
       "</table>\n",
       "</div>"
      ],
      "text/plain": [
       "      CreatedDate     Latitude     Longitude                    APC  CD   NC  \\\n",
       "0  1/1/2017 10:30  34.09658918  -118.3381616            Central APC  13   32   \n",
       "1  1/1/2017 10:37  34.03674605  -118.3755976  South Los Angeles APC  10   60   \n",
       "2  1/1/2017 11:00  34.05742408   -118.307502            Central APC  10   55   \n",
       "3  1/1/2017 12:00  34.00109792  -118.4686821   West Los Angeles APC  11   68   \n",
       "4  1/1/2017 12:24  34.25010497  -118.4509682       North Valley APC   6  101   \n",
       "\n",
       "  PolicePrecinct geometry  \n",
       "0      HOLLYWOOD     None  \n",
       "1       WILSHIRE     None  \n",
       "2        OLYMPIC     None  \n",
       "3        PACIFIC     None  \n",
       "4        MISSION     None  "
      ]
     },
     "execution_count": 4,
     "metadata": {},
     "output_type": "execute_result"
    }
   ],
   "source": [
    "encamp_2017.head()"
   ]
  },
  {
   "cell_type": "code",
   "execution_count": 5,
   "metadata": {},
   "outputs": [
    {
     "data": {
      "text/html": [
       "<div>\n",
       "<style scoped>\n",
       "    .dataframe tbody tr th:only-of-type {\n",
       "        vertical-align: middle;\n",
       "    }\n",
       "\n",
       "    .dataframe tbody tr th {\n",
       "        vertical-align: top;\n",
       "    }\n",
       "\n",
       "    .dataframe thead th {\n",
       "        text-align: right;\n",
       "    }\n",
       "</style>\n",
       "<table border=\"1\" class=\"dataframe\">\n",
       "  <thead>\n",
       "    <tr style=\"text-align: right;\">\n",
       "      <th></th>\n",
       "      <th>CreatedDate</th>\n",
       "      <th>Latitude</th>\n",
       "      <th>Longitude</th>\n",
       "      <th>APC</th>\n",
       "      <th>CD</th>\n",
       "      <th>NC</th>\n",
       "      <th>PolicePrecinct</th>\n",
       "      <th>geometry</th>\n",
       "    </tr>\n",
       "  </thead>\n",
       "  <tbody>\n",
       "    <tr>\n",
       "      <th>25614</th>\n",
       "      <td>12/31/2017 16:09</td>\n",
       "      <td>34.04157856</td>\n",
       "      <td>-118.2478092</td>\n",
       "      <td>Central APC</td>\n",
       "      <td>14</td>\n",
       "      <td>52</td>\n",
       "      <td>CENTRAL</td>\n",
       "      <td>None</td>\n",
       "    </tr>\n",
       "    <tr>\n",
       "      <th>25615</th>\n",
       "      <td>12/31/2017 21:48</td>\n",
       "      <td>34.07774525</td>\n",
       "      <td>-118.2155688</td>\n",
       "      <td>East Los Angeles APC</td>\n",
       "      <td>1</td>\n",
       "      <td>47</td>\n",
       "      <td>HOLLENBECK</td>\n",
       "      <td>None</td>\n",
       "    </tr>\n",
       "    <tr>\n",
       "      <th>25616</th>\n",
       "      <td>12/31/2017 21:51</td>\n",
       "      <td>34.14403063</td>\n",
       "      <td>-118.4033642</td>\n",
       "      <td>South Valley APC</td>\n",
       "      <td>2</td>\n",
       "      <td>27</td>\n",
       "      <td>NORTH HOLLYWOOD</td>\n",
       "      <td>None</td>\n",
       "    </tr>\n",
       "    <tr>\n",
       "      <th>25617</th>\n",
       "      <td>12/31/2017 22:08</td>\n",
       "      <td>34.11042044</td>\n",
       "      <td>-118.1936663</td>\n",
       "      <td>East Los Angeles APC</td>\n",
       "      <td>1</td>\n",
       "      <td>41</td>\n",
       "      <td>NORTHEAST</td>\n",
       "      <td>None</td>\n",
       "    </tr>\n",
       "    <tr>\n",
       "      <th>25618</th>\n",
       "      <td>12/31/2017 23:59</td>\n",
       "      <td>34.07321665</td>\n",
       "      <td>-118.2668619</td>\n",
       "      <td>East Los Angeles APC</td>\n",
       "      <td>13</td>\n",
       "      <td>44</td>\n",
       "      <td>RAMPART</td>\n",
       "      <td>None</td>\n",
       "    </tr>\n",
       "  </tbody>\n",
       "</table>\n",
       "</div>"
      ],
      "text/plain": [
       "            CreatedDate     Latitude     Longitude                   APC  CD  \\\n",
       "25614  12/31/2017 16:09  34.04157856  -118.2478092           Central APC  14   \n",
       "25615  12/31/2017 21:48  34.07774525  -118.2155688  East Los Angeles APC   1   \n",
       "25616  12/31/2017 21:51  34.14403063  -118.4033642      South Valley APC   2   \n",
       "25617  12/31/2017 22:08  34.11042044  -118.1936663  East Los Angeles APC   1   \n",
       "25618  12/31/2017 23:59  34.07321665  -118.2668619  East Los Angeles APC  13   \n",
       "\n",
       "       NC   PolicePrecinct geometry  \n",
       "25614  52          CENTRAL     None  \n",
       "25615  47       HOLLENBECK     None  \n",
       "25616  27  NORTH HOLLYWOOD     None  \n",
       "25617  41        NORTHEAST     None  \n",
       "25618  44          RAMPART     None  "
      ]
     },
     "execution_count": 5,
     "metadata": {},
     "output_type": "execute_result"
    }
   ],
   "source": [
    "encamp_2017.tail()"
   ]
  },
  {
   "cell_type": "code",
   "execution_count": 6,
   "metadata": {},
   "outputs": [
    {
     "data": {
      "text/plain": [
       "(25619, 8)"
      ]
     },
     "execution_count": 6,
     "metadata": {},
     "output_type": "execute_result"
    }
   ],
   "source": [
    "encamp_2017.shape"
   ]
  },
  {
   "cell_type": "code",
   "execution_count": 7,
   "metadata": {
    "scrolled": false
   },
   "outputs": [
    {
     "data": {
      "text/plain": [
       "<bound method DataFrame.info of             CreatedDate     Latitude     Longitude                    APC  CD  \\\n",
       "0        1/1/2017 10:30  34.09658918  -118.3381616            Central APC  13   \n",
       "1        1/1/2017 10:37  34.03674605  -118.3755976  South Los Angeles APC  10   \n",
       "2        1/1/2017 11:00  34.05742408   -118.307502            Central APC  10   \n",
       "3        1/1/2017 12:00  34.00109792  -118.4686821   West Los Angeles APC  11   \n",
       "4        1/1/2017 12:24  34.25010497  -118.4509682       North Valley APC   6   \n",
       "...                 ...          ...           ...                    ...  ..   \n",
       "25614  12/31/2017 16:09  34.04157856  -118.2478092            Central APC  14   \n",
       "25615  12/31/2017 21:48  34.07774525  -118.2155688   East Los Angeles APC   1   \n",
       "25616  12/31/2017 21:51  34.14403063  -118.4033642       South Valley APC   2   \n",
       "25617  12/31/2017 22:08  34.11042044  -118.1936663   East Los Angeles APC   1   \n",
       "25618  12/31/2017 23:59  34.07321665  -118.2668619   East Los Angeles APC  13   \n",
       "\n",
       "        NC   PolicePrecinct geometry  \n",
       "0       32        HOLLYWOOD     None  \n",
       "1       60         WILSHIRE     None  \n",
       "2       55          OLYMPIC     None  \n",
       "3       68          PACIFIC     None  \n",
       "4      101          MISSION     None  \n",
       "...    ...              ...      ...  \n",
       "25614   52          CENTRAL     None  \n",
       "25615   47       HOLLENBECK     None  \n",
       "25616   27  NORTH HOLLYWOOD     None  \n",
       "25617   41        NORTHEAST     None  \n",
       "25618   44          RAMPART     None  \n",
       "\n",
       "[25619 rows x 8 columns]>"
      ]
     },
     "execution_count": 7,
     "metadata": {},
     "output_type": "execute_result"
    }
   ],
   "source": [
    "encamp_2017.info"
   ]
  },
  {
   "cell_type": "code",
   "execution_count": 8,
   "metadata": {},
   "outputs": [
    {
     "data": {
      "text/plain": [
       "CreatedDate         object\n",
       "Latitude            object\n",
       "Longitude           object\n",
       "APC                 object\n",
       "CD                  object\n",
       "NC                  object\n",
       "PolicePrecinct      object\n",
       "geometry          geometry\n",
       "dtype: object"
      ]
     },
     "execution_count": 8,
     "metadata": {},
     "output_type": "execute_result"
    }
   ],
   "source": [
    "encamp_2017.dtypes"
   ]
  },
  {
   "cell_type": "code",
   "execution_count": null,
   "metadata": {},
   "outputs": [],
   "source": []
  }
 ],
 "metadata": {
  "kernelspec": {
   "display_name": "Python 3",
   "language": "python",
   "name": "python3"
  },
  "language_info": {
   "codemirror_mode": {
    "name": "ipython",
    "version": 3
   },
   "file_extension": ".py",
   "mimetype": "text/x-python",
   "name": "python",
   "nbconvert_exporter": "python",
   "pygments_lexer": "ipython3",
   "version": "3.8.5"
  },
  "toc": {
   "base_numbering": 1,
   "nav_menu": {},
   "number_sections": true,
   "sideBar": true,
   "skip_h1_title": false,
   "title_cell": "Table of Contents",
   "title_sidebar": "Contents",
   "toc_cell": false,
   "toc_position": {},
   "toc_section_display": true,
   "toc_window_display": false
  }
 },
 "nbformat": 4,
 "nbformat_minor": 4
}
