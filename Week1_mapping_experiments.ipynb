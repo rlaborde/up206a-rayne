{
 "cells": [
  {
   "cell_type": "markdown",
   "metadata": {},
   "source": [
    "# Places I've Lived\n",
    "*Sorted by length of time (radius) and chronology (gradient)*"
   ]
  },
  {
   "cell_type": "code",
   "execution_count": 48,
   "metadata": {
    "scrolled": true
   },
   "outputs": [
    {
     "data": {
      "text/html": [
       "<div style=\"width:100%;\"><div style=\"position:relative;width:100%;height:0;padding-bottom:60%;\"><span style=\"color:#565656\">Make this Notebook Trusted to load map: File -> Trust Notebook</span><iframe src=\"about:blank\" style=\"position:absolute;width:100%;height:100%;left:0;top:0;border:none !important;\" data-html=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 onload=\"this.contentDocument.open();this.contentDocument.write(atob(this.getAttribute('data-html')));this.contentDocument.close();\" allowfullscreen webkitallowfullscreen mozallowfullscreen></iframe></div></div>"
      ],
      "text/plain": [
       "<folium.folium.Map at 0x7fe39c3e6e20>"
      ]
     },
     "execution_count": 48,
     "metadata": {},
     "output_type": "execute_result"
    }
   ],
   "source": [
    "#import the necessary library\n",
    "import folium\n",
    "\n",
    "#create a folium map showing continental US\n",
    "m = folium.Map(\n",
    "    location = [39.8283, -98.5795],\n",
    "    tiles='Stamen Toner',\n",
    "    zoom_start=4)\n",
    "\n",
    "#add circle markers for places I have lived\n",
    "#add pop up markers to explain\n",
    "#use radius to indicate length of time.\n",
    "folium.CircleMarker(\n",
    "    radius=15,\n",
    "    location=[29.9511,-90.0715],\n",
    "    popup='New Orleans, LA',\n",
    "    color='#fbe7ef',\n",
    "    fill=True,\n",
    "    fill_color='#fbe7ef'\n",
    ").add_to(m)\n",
    "\n",
    "folium.CircleMarker(\n",
    "    location=[30.6938, -90.9782],\n",
    "    radius=3,\n",
    "    popup='Pride, LA',\n",
    "    color='#f6c3db',\n",
    "    fill=True,\n",
    "    fill_color='#f6c3db'\n",
    ").add_to(m)\n",
    "\n",
    "folium.CircleMarker(\n",
    "    location=[36.3884, -86.4467],\n",
    "    radius=5,\n",
    "    popup='Gallatin, TN',\n",
    "    color='#f3a0c5',\n",
    "    fill=True,\n",
    "    fill_color='#f3a0c5'\n",
    ").add_to(m)\n",
    "\n",
    "folium.CircleMarker(\n",
    "    location=[32.3865, -96.8483],\n",
    "    radius=5,\n",
    "    popup='Waxahachie, TX',\n",
    "    color='#f2a0c5',\n",
    "    fill=True,\n",
    "    fill_color='#f2a0c5'\n",
    ").add_to(m)\n",
    "\n",
    "folium.CircleMarker(\n",
    "    location=[45.7833, -108.5007],\n",
    "    radius=2,\n",
    "    popup='Billings, MT',\n",
    "    color='#ed59a0',\n",
    "    fill=True,\n",
    "    fill_color='#ed59a0'\n",
    ").add_to(m)\n",
    "\n",
    "folium.CircleMarker(\n",
    "    location=[40.7128, -74.0060],\n",
    "    radius=5,\n",
    "    popup='New York, NY',\n",
    "    color='#ec3092',\n",
    "    fill=True,\n",
    "    fill_color='#ec3092'\n",
    ").add_to(m)\n",
    "\n",
    "folium.CircleMarker(\n",
    "    location=[34.0522, -118.2437],\n",
    "    radius=10,\n",
    "    popup='Santa Monica, CA',\n",
    "    color='#eb0c7f',\n",
    "    fill=True,\n",
    "    fill_color='#eb0c7f'\n",
    ").add_to(m)\n",
    "\n",
    "m"
   ]
  },
  {
   "cell_type": "code",
   "execution_count": null,
   "metadata": {},
   "outputs": [],
   "source": []
  }
 ],
 "metadata": {
  "kernelspec": {
   "display_name": "Python 3",
   "language": "python",
   "name": "python3"
  },
  "language_info": {
   "codemirror_mode": {
    "name": "ipython",
    "version": 3
   },
   "file_extension": ".py",
   "mimetype": "text/x-python",
   "name": "python",
   "nbconvert_exporter": "python",
   "pygments_lexer": "ipython3",
   "version": "3.8.5"
  },
  "toc": {
   "base_numbering": 1,
   "nav_menu": {},
   "number_sections": true,
   "sideBar": true,
   "skip_h1_title": false,
   "title_cell": "Table of Contents",
   "title_sidebar": "Contents",
   "toc_cell": false,
   "toc_position": {},
   "toc_section_display": true,
   "toc_window_display": false
  }
 },
 "nbformat": 4,
 "nbformat_minor": 4
}
